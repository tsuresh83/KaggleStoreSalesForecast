{
 "cells": [
  {
   "cell_type": "code",
   "execution_count": 1,
   "metadata": {
    "collapsed": true
   },
   "outputs": [],
   "source": [
    "from datetime import date, timedelta\n",
    "\n",
    "import pandas as pd\n",
    "import numpy as np\n",
    "from sklearn.metrics import mean_squared_error\n",
    "import lightgbm as lgb"
   ]
  },
  {
   "cell_type": "code",
   "execution_count": 2,
   "metadata": {
    "collapsed": true
   },
   "outputs": [],
   "source": [
    "df_train = pd.read_csv(\n",
    "    'input/train.csv', usecols=[1, 2, 3, 4, 5],\n",
    "    dtype={'onpromotion': bool},\n",
    "    converters={'unit_sales': lambda u: np.log1p(\n",
    "        float(u)) if float(u) > 0 else 0},\n",
    "    parse_dates=[\"date\"],\n",
    "    skiprows=range(1, 66458909)  # 2016-01-01\n",
    ")\n",
    "\n",
    "df_test = pd.read_csv(\n",
    "    \"input/test.csv\", usecols=[0, 1, 2, 3, 4],\n",
    "    dtype={'onpromotion': bool},\n",
    "    parse_dates=[\"date\"]  # , date_parser=parser\n",
    ").set_index(\n",
    "    ['store_nbr', 'item_nbr', 'date']\n",
    ")\n",
    "\n",
    "items = pd.read_csv(\n",
    "    \"input/items.csv\",\n",
    ").set_index(\"item_nbr\")\n",
    "\n",
    "stores = pd.read_csv(\n",
    "    \"input/stores.csv\",\n",
    ").set_index(\"store_nbr\")\n",
    "\n",
    "holidays = pd.read_csv(\n",
    "    \"input/holidays_events.csv\")"
   ]
  },
  {
   "cell_type": "code",
   "execution_count": 3,
   "metadata": {
    "collapsed": true
   },
   "outputs": [],
   "source": [
    "te = df_train[df_train.store_nbr==1]"
   ]
  },
  {
   "cell_type": "code",
   "execution_count": 4,
   "metadata": {
    "collapsed": true
   },
   "outputs": [],
   "source": [
    "te_promo = te.set_index(\n",
    "    [\"store_nbr\", \"item_nbr\", \"date\"])[[\"onpromotion\"]].unstack(level=-1).fillna(False)\n",
    "te_promo.columns = te_promo.columns.get_level_values(1)"
   ]
  },
  {
   "cell_type": "code",
   "execution_count": 5,
   "metadata": {
    "collapsed": true
   },
   "outputs": [],
   "source": [
    "te_sales = te.set_index(\n",
    "    [\"store_nbr\", \"item_nbr\", \"date\"])[[\"unit_sales\"]].unstack(level=-1).fillna(0)\n",
    "te_sales.columns = te_sales.columns.get_level_values(1)"
   ]
  },
  {
   "cell_type": "code",
   "execution_count": 6,
   "metadata": {
    "collapsed": true
   },
   "outputs": [],
   "source": [
    "#te_test = df_test[df_test.store_nbr==1]\n",
    "promo_2017_test = df_test[[\"onpromotion\"]].unstack(level=-1).fillna(False)"
   ]
  },
  {
   "cell_type": "code",
   "execution_count": 7,
   "metadata": {},
   "outputs": [
    {
     "name": "stdout",
     "output_type": "stream",
     "text": [
      "Index(['id', 'onpromotion'], dtype='object')\n",
      "                   onpromotion                                              \\\n",
      "date                2017-08-16 2017-08-17 2017-08-18 2017-08-19 2017-08-20   \n",
      "store_nbr item_nbr                                                           \n",
      "1         96995          False      False      False      False      False   \n",
      "          99197          False      False      False      False      False   \n",
      "          103520         False      False      False      False      False   \n",
      "          103665         False      False      False      False      False   \n",
      "          105574         False      False      False      False      False   \n",
      "\n",
      "                                                                           \\\n",
      "date               2017-08-21 2017-08-22 2017-08-23 2017-08-24 2017-08-25   \n",
      "store_nbr item_nbr                                                          \n",
      "1         96995         False      False      False      False      False   \n",
      "          99197         False      False      False      False      False   \n",
      "          103520        False      False      False      False      False   \n",
      "          103665        False      False      False      False      False   \n",
      "          105574        False      False      False      False      False   \n",
      "\n",
      "                                                                           \\\n",
      "date               2017-08-26 2017-08-27 2017-08-28 2017-08-29 2017-08-30   \n",
      "store_nbr item_nbr                                                          \n",
      "1         96995         False      False      False      False      False   \n",
      "          99197         False      False      False      False      False   \n",
      "          103520        False      False      False      False      False   \n",
      "          103665        False      False      False      False      False   \n",
      "          105574        False      False      False      False      False   \n",
      "\n",
      "                               \n",
      "date               2017-08-31  \n",
      "store_nbr item_nbr             \n",
      "1         96995         False  \n",
      "          99197         False  \n",
      "          103520        False  \n",
      "          103665        False  \n",
      "          105574        False  \n"
     ]
    }
   ],
   "source": [
    "print(df_test.columns)\n",
    "print(promo_2017_test.reindex(te_promo.index).fillna(False).head())"
   ]
  },
  {
   "cell_type": "code",
   "execution_count": 8,
   "metadata": {},
   "outputs": [
    {
     "name": "stdout",
     "output_type": "stream",
     "text": [
      "Index(['family', 'class', 'perishable'], dtype='object')\n",
      "                    family  class  perishable\n",
      "item_nbr                                     \n",
      "96995            GROCERY I   1093           0\n",
      "99197            GROCERY I   1067           0\n",
      "103520           GROCERY I   1028           0\n",
      "103665        BREAD/BAKERY   2712           1\n",
      "105574           GROCERY I   1045           0\n",
      "105575           GROCERY I   1045           0\n",
      "105577           GROCERY I   1045           0\n",
      "105693           GROCERY I   1034           0\n",
      "105737           GROCERY I   1044           0\n",
      "105857           GROCERY I   1092           0\n",
      "106716           GROCERY I   1032           0\n",
      "108079           GROCERY I   1030           0\n",
      "108634           GROCERY I   1075           0\n",
      "108696                DELI   2636           1\n",
      "108698                DELI   2644           1\n",
      "108701                DELI   2644           1\n",
      "108786            CLEANING   3044           0\n",
      "108797           GROCERY I   1004           0\n",
      "108831             POULTRY   2416           1\n",
      "108862           GROCERY I   1062           0\n",
      "108952            CLEANING   3024           0\n",
      "111223           GROCERY I   1034           0\n",
      "111397           GROCERY I   1072           0\n",
      "112830           GROCERY I   1044           0\n",
      "114778           GROCERY I   1016           0\n",
      "114790           GROCERY I   1004           0\n",
      "114799       PERSONAL CARE   4126           0\n",
      "114800       PERSONAL CARE   4126           0\n",
      "115267            CLEANING   3034           0\n",
      "115611           GROCERY I   1014           0\n",
      "...                    ...    ...         ...\n",
      "2088860          GROCERY I   1006           0\n",
      "2088922          GROCERY I   1076           0\n",
      "2089250           CLEANING   3020           0\n",
      "2089276          GROCERY I   1006           0\n",
      "2089339          GROCERY I   1006           0\n",
      "2090125             BEAUTY   4214           0\n",
      "2099230             BEAUTY   4252           0\n",
      "2101795             BEAUTY   4222           0\n",
      "2103250             BEAUTY   4254           0\n",
      "2105347             BEAUTY   4254           0\n",
      "2106464          BEVERAGES   1148           0\n",
      "2108569          GROCERY I   1086           0\n",
      "2108843          GROCERY I   1086           0\n",
      "2109909          GROCERY I   1074           0\n",
      "2110456          BEVERAGES   1120           0\n",
      "2111684          BEVERAGES   1120           0\n",
      "2111870            PRODUCE   2028           1\n",
      "2112404              DAIRY   2108           1\n",
      "2113343          BEVERAGES   1114           0\n",
      "2113914           CLEANING   3040           0\n",
      "2114566          GROCERY I   1034           0\n",
      "2114812           CLEANING   3020           0\n",
      "2116416          GROCERY I   1060           0\n",
      "2122188          GROCERY I   1084           0\n",
      "2122676          BEVERAGES   1124           0\n",
      "2123468          GROCERY I   1068           0\n",
      "2123727          GROCERY I   1028           0\n",
      "2123775          GROCERY I   1030           0\n",
      "2124052   LIQUOR,WINE,BEER   1318           0\n",
      "2127114          BEVERAGES   1152           0\n",
      "\n",
      "[3540 rows x 3 columns]\n"
     ]
    }
   ],
   "source": [
    "print(items.columns)\n",
    "print(items.reindex(te_promo.index.get_level_values(1)))"
   ]
  },
  {
   "cell_type": "code",
   "execution_count": 36,
   "metadata": {},
   "outputs": [
    {
     "data": {
      "text/plain": [
       "3540"
      ]
     },
     "execution_count": 36,
     "metadata": {},
     "output_type": "execute_result"
    }
   ],
   "source": [
    "len(te.item_nbr.unique())"
   ]
  },
  {
   "cell_type": "code",
   "execution_count": 13,
   "metadata": {},
   "outputs": [
    {
     "data": {
      "text/plain": [
       "DatetimeIndex(['2017-05-08', '2017-05-15', '2017-05-22', '2017-05-29',\n",
       "               '2017-06-05', '2017-06-12', '2017-06-19'],\n",
       "              dtype='datetime64[ns]', freq='7D')"
      ]
     },
     "execution_count": 13,
     "metadata": {},
     "output_type": "execute_result"
    }
   ],
   "source": [
    "import datetime\n",
    "pd.date_range(datetime.date(2017,5,31)-timedelta(23),periods=7,freq=\"7D\")"
   ]
  },
  {
   "cell_type": "code",
   "execution_count": 14,
   "metadata": {
    "collapsed": true
   },
   "outputs": [],
   "source": [
    "def get_timespan(df, dt, minus, periods, freq='D'):\n",
    "    return df[pd.date_range(dt - timedelta(days=minus), periods=periods, freq=freq)]"
   ]
  },
  {
   "cell_type": "code",
   "execution_count": 15,
   "metadata": {
    "collapsed": true
   },
   "outputs": [],
   "source": [
    "ter = get_timespan(te_sales, datetime.date(2017,5,31), 1, 1).values.ravel()"
   ]
  },
  {
   "cell_type": "code",
   "execution_count": 20,
   "metadata": {},
   "outputs": [
    {
     "data": {
      "text/plain": [
       "(array([ 1510.,   568.,   653.,   322.,   256.,   128.,    69.,    19.,\n",
       "           13.,     2.]),\n",
       " array([ 0.        ,  0.46901453,  0.93802906,  1.4070436 ,  1.87605813,\n",
       "         2.34507266,  2.81408719,  3.28310173,  3.75211626,  4.22113079,\n",
       "         4.69014532]),\n",
       " <a list of 10 Patch objects>)"
      ]
     },
     "execution_count": 20,
     "metadata": {},
     "output_type": "execute_result"
    },
    {
     "data": {
      "image/png": "[encoded data removed]",
      "text/plain": [
       "<matplotlib.figure.Figure at 0x7f7b55d63cc0>"
      ]
     },
     "metadata": {},
     "output_type": "display_data"
    }
   ],
   "source": [
    "import matplotlib.pyplot as plt\n",
    "%matplotlib inline\n",
    "plt.hist(ter)"
   ]
  },
  {
   "cell_type": "code",
   "execution_count": 23,
   "metadata": {},
   "outputs": [
    {
     "name": "stdout",
     "output_type": "stream",
     "text": [
      "(3540,)\n",
      "(3540,)\n"
     ]
    },
    {
     "data": {
      "text/plain": [
       "(array([  1.68600000e+03,   6.57000000e+02,   5.63000000e+02,\n",
       "          3.38000000e+02,   1.70000000e+02,   7.50000000e+01,\n",
       "          3.10000000e+01,   1.00000000e+01,   9.00000000e+00,\n",
       "          1.00000000e+00]),\n",
       " array([ 0.        ,  0.47366717,  0.94733435,  1.42100152,  1.89466869,\n",
       "         2.36833586,  2.84200304,  3.31567021,  3.78933738,  4.26300456,\n",
       "         4.73667173]),\n",
       " <a list of 10 Patch objects>)"
      ]
     },
     "execution_count": 23,
     "metadata": {},
     "output_type": "execute_result"
    },
    {
     "data": {
      "image/png": "[encoded data removed]",
      "text/plain": [
       "<matplotlib.figure.Figure at 0x7f7b520fc978>"
      ]
     },
     "metadata": {},
     "output_type": "display_data"
    }
   ],
   "source": [
    "print(ter.shape)\n",
    "ter3= get_timespan(te_sales, datetime.date(2017,5,31), 3, 3).mean(axis=1).values\n",
    "print(ter3.shape)\n",
    "plt.hist(ter3)"
   ]
  },
  {
   "cell_type": "code",
   "execution_count": null,
   "metadata": {
    "collapsed": true
   },
   "outputs": [],
   "source": []
  }
 ],
 "metadata": {
  "kernelspec": {
   "display_name": "Python 3",
   "language": "python",
   "name": "python3"
  },
  "language_info": {
   "codemirror_mode": {
    "name": "ipython",
    "version": 3
   },
   "file_extension": ".py",
   "mimetype": "text/x-python",
   "name": "python",
   "nbconvert_exporter": "python",
   "pygments_lexer": "ipython3",
   "version": "3.5.4"
  }
 },
 "nbformat": 4,
 "nbformat_minor": 2
}
