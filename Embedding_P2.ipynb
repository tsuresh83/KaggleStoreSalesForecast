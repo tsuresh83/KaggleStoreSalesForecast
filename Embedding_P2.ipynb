{
 "cells": [
  {
   "cell_type": "code",
   "execution_count": 1,
   "metadata": {
    "collapsed": true
   },
   "outputs": [],
   "source": [
    "import random\n",
    "from itertools import product\n",
    "import pandas as pd\n",
    "import matplotlib.pyplot as plt\n",
    "import cloudpickle as cpkl\n",
    "from pathlib import Path\n",
    "import numpy as np\n",
    "import datetime\n",
    "from datetime import timedelta\n",
    "from functools import reduce\n",
    "from fbprophet import Prophet\n",
    "import multiprocessing as mp\n",
    "from itertools import repeat\n",
    "from joblib import Parallel, delayed\n",
    "import calendar"
   ]
  },
  {
   "cell_type": "code",
   "execution_count": 2,
   "metadata": {
    "collapsed": true
   },
   "outputs": [],
   "source": [
    "script_name='prophet_item_store'\n",
    "train_pkl_file = 'input/train_pkl'\n",
    "test_pkl_file = 'input/test_pkl'\n",
    "train,transactions,stores,oil,items,holidays_events = cpkl.loads(open(train_pkl_file,'rb').read())"
   ]
  },
  {
   "cell_type": "code",
   "execution_count": 3,
   "metadata": {
    "collapsed": true
   },
   "outputs": [],
   "source": [
    "big_bang = datetime.date(2014,12,31)\n",
    "maxdate = datetime.date(2017,8,31)\n",
    "train = train.loc[train.date>big_bang]\n",
    "#train.loc[:, \"onpromotion\"].fillna(False, inplace=True)\n",
    "transactions = transactions.loc[transactions.date>big_bang]"
   ]
  },
  {
   "cell_type": "code",
   "execution_count": 4,
   "metadata": {},
   "outputs": [],
   "source": [
    "holidays_events.date = pd.to_datetime(holidays_events.date)\n",
    "holidays_events.date = holidays_events.date.dt.date\n",
    "all_days = pd.DataFrame({'date':pd.date_range(big_bang,maxdate,freq=\"D\")})\n",
    "all_days.date = all_days.date.dt.date\n",
    "all_days['holiday']=0\n",
    "all_days.loc[all_days.date.isin(holidays_events.date),'holiday']=1\n",
    "train.date = train.date.dt.date\n",
    "transactions.date = transactions.date.dt.date\n",
    "oil.date = oil.date.dt.date"
   ]
  },
  {
   "cell_type": "code",
   "execution_count": 5,
   "metadata": {},
   "outputs": [
    {
     "name": "stdout",
     "output_type": "stream",
     "text": [
      "         date  dcoilwtico\n",
      "0  2013-01-01         NaN\n",
      "1  2013-01-02       93.14\n",
      "2  2013-01-03       92.97\n",
      "3  2013-01-04       93.12\n",
      "4  2013-01-07       93.20\n"
     ]
    },
    {
     "data": {
      "text/plain": [
       "47"
      ]
     },
     "execution_count": 5,
     "metadata": {},
     "output_type": "execute_result"
    }
   ],
   "source": [
    "holidays_events = holidays_events[holidays_events.transferred==False]\n",
    "oil.dcoilwtico.fillna(method='ffill',inplace=True)\n",
    "print(oil.head())\n",
    "import gc\n",
    "gc.collect()"
   ]
  },
  {
   "cell_type": "code",
   "execution_count": 6,
   "metadata": {},
   "outputs": [
    {
     "data": {
      "text/plain": [
       "60"
      ]
     },
     "execution_count": 6,
     "metadata": {},
     "output_type": "execute_result"
    }
   ],
   "source": [
    "class elapsed(object):\n",
    "    def __init__(self, fld):\n",
    "        self.fld = fld\n",
    "        self.last = pd.to_datetime(np.nan)\n",
    "        self.last_store = 0\n",
    "        self.last_item = 0\n",
    "        \n",
    "    def get(self, row):\n",
    "        if (row.store_nbr != self.last_store) or (row.item_nbr != self.last_item):\n",
    "            self.last = pd.to_datetime(np.nan)\n",
    "            self.last_store = row.store_nbr\n",
    "            self.last_item = row.item_nbr\n",
    "        if (row[self.fld]): self.last = row.date\n",
    "        return (row.date-self.last).days\n",
    "\n",
    "class elapsed_date(object):\n",
    "    def __init__(self, fld):\n",
    "        self.fld = fld\n",
    "        self.last = pd.to_datetime(np.nan)\n",
    "        \n",
    "    def get(self, row):\n",
    "        if (row[self.fld]): self.last = row.date\n",
    "        return (row.date-self.last).days\n",
    "gc.collect()\n"
   ]
  },
  {
   "cell_type": "code",
   "execution_count": 7,
   "metadata": {
    "collapsed": true
   },
   "outputs": [],
   "source": [
    "def add_elapsed_date(fld, prefix):\n",
    "    sh_el = elapsed_date(fld)\n",
    "    all_days[prefix+fld] = all_days.apply(sh_el.get, axis=1)\n",
    "fld='holiday'\n",
    "all_days = all_days.sort_values(['date'])\n",
    "add_elapsed_date(fld, 'After')\n",
    "all_days = all_days.sort_values([ 'date'], ascending=[False])\n",
    "add_elapsed_date(fld, 'Before')\n",
    "all_days.loc[all_days.date==datetime.date(2017,8,25),'Beforeholiday']=-34\n",
    "all_days.loc[all_days.date==datetime.date(2017,8,26),'Beforeholiday']=-33\n",
    "all_days.loc[all_days.date==datetime.date(2017,8,27),'Beforeholiday']=-32\n",
    "all_days.loc[all_days.date==datetime.date(2017,8,28),'Beforeholiday']=-31\n",
    "all_days.loc[all_days.date==datetime.date(2017,8,29),'Beforeholiday']=-30\n",
    "all_days.loc[all_days.date==datetime.date(2017,8,30),'Beforeholiday']=-29\n",
    "all_days.loc[all_days.date==datetime.date(2017,8,31),'Beforeholiday']=-28"
   ]
  },
  {
   "cell_type": "code",
   "execution_count": 8,
   "metadata": {
    "collapsed": true
   },
   "outputs": [],
   "source": [
    "all_days.set_index('date',inplace=True)\n",
    "bwd_days = all_days[['holiday']].sort_index().rolling(7,min_periods=1).sum().reset_index()\n",
    "fwd_days = all_days[['holiday']].sort_index(ascending=False).rolling(7,min_periods=1).sum().reset_index()\n",
    "all_days.reset_index(inplace=True)"
   ]
  },
  {
   "cell_type": "code",
   "execution_count": 9,
   "metadata": {},
   "outputs": [
    {
     "data": {
      "text/html": [
       "<div>\n",
       "<style>\n",
       "    .dataframe thead tr:only-child th {\n",
       "        text-align: right;\n",
       "    }\n",
       "\n",
       "    .dataframe thead th {\n",
       "        text-align: left;\n",
       "    }\n",
       "\n",
       "    .dataframe tbody tr th {\n",
       "        vertical-align: top;\n",
       "    }\n",
       "</style>\n",
       "<table border=\"1\" class=\"dataframe\">\n",
       "  <thead>\n",
       "    <tr style=\"text-align: right;\">\n",
       "      <th></th>\n",
       "      <th>date</th>\n",
       "      <th>holiday</th>\n",
       "      <th>Afterholiday</th>\n",
       "      <th>Beforeholiday</th>\n",
       "      <th>holiday_bw</th>\n",
       "      <th>holiday_fw</th>\n",
       "    </tr>\n",
       "  </thead>\n",
       "  <tbody>\n",
       "    <tr>\n",
       "      <th>0</th>\n",
       "      <td>2017-08-31</td>\n",
       "      <td>0</td>\n",
       "      <td>7</td>\n",
       "      <td>-28.0</td>\n",
       "      <td>0.0</td>\n",
       "      <td>0.0</td>\n",
       "    </tr>\n",
       "    <tr>\n",
       "      <th>1</th>\n",
       "      <td>2017-08-30</td>\n",
       "      <td>0</td>\n",
       "      <td>6</td>\n",
       "      <td>-29.0</td>\n",
       "      <td>1.0</td>\n",
       "      <td>0.0</td>\n",
       "    </tr>\n",
       "    <tr>\n",
       "      <th>2</th>\n",
       "      <td>2017-08-29</td>\n",
       "      <td>0</td>\n",
       "      <td>5</td>\n",
       "      <td>-30.0</td>\n",
       "      <td>1.0</td>\n",
       "      <td>0.0</td>\n",
       "    </tr>\n",
       "    <tr>\n",
       "      <th>3</th>\n",
       "      <td>2017-08-28</td>\n",
       "      <td>0</td>\n",
       "      <td>4</td>\n",
       "      <td>-31.0</td>\n",
       "      <td>1.0</td>\n",
       "      <td>0.0</td>\n",
       "    </tr>\n",
       "    <tr>\n",
       "      <th>4</th>\n",
       "      <td>2017-08-27</td>\n",
       "      <td>0</td>\n",
       "      <td>3</td>\n",
       "      <td>-32.0</td>\n",
       "      <td>1.0</td>\n",
       "      <td>0.0</td>\n",
       "    </tr>\n",
       "    <tr>\n",
       "      <th>5</th>\n",
       "      <td>2017-08-26</td>\n",
       "      <td>0</td>\n",
       "      <td>2</td>\n",
       "      <td>-33.0</td>\n",
       "      <td>1.0</td>\n",
       "      <td>0.0</td>\n",
       "    </tr>\n",
       "    <tr>\n",
       "      <th>6</th>\n",
       "      <td>2017-08-25</td>\n",
       "      <td>0</td>\n",
       "      <td>1</td>\n",
       "      <td>-34.0</td>\n",
       "      <td>1.0</td>\n",
       "      <td>0.0</td>\n",
       "    </tr>\n",
       "    <tr>\n",
       "      <th>7</th>\n",
       "      <td>2017-08-24</td>\n",
       "      <td>1</td>\n",
       "      <td>0</td>\n",
       "      <td>0.0</td>\n",
       "      <td>1.0</td>\n",
       "      <td>1.0</td>\n",
       "    </tr>\n",
       "    <tr>\n",
       "      <th>8</th>\n",
       "      <td>2017-08-23</td>\n",
       "      <td>0</td>\n",
       "      <td>8</td>\n",
       "      <td>-1.0</td>\n",
       "      <td>0.0</td>\n",
       "      <td>1.0</td>\n",
       "    </tr>\n",
       "    <tr>\n",
       "      <th>9</th>\n",
       "      <td>2017-08-22</td>\n",
       "      <td>0</td>\n",
       "      <td>7</td>\n",
       "      <td>-2.0</td>\n",
       "      <td>0.0</td>\n",
       "      <td>1.0</td>\n",
       "    </tr>\n",
       "    <tr>\n",
       "      <th>10</th>\n",
       "      <td>2017-08-21</td>\n",
       "      <td>0</td>\n",
       "      <td>6</td>\n",
       "      <td>-3.0</td>\n",
       "      <td>1.0</td>\n",
       "      <td>1.0</td>\n",
       "    </tr>\n",
       "    <tr>\n",
       "      <th>11</th>\n",
       "      <td>2017-08-20</td>\n",
       "      <td>0</td>\n",
       "      <td>5</td>\n",
       "      <td>-4.0</td>\n",
       "      <td>1.0</td>\n",
       "      <td>1.0</td>\n",
       "    </tr>\n",
       "    <tr>\n",
       "      <th>12</th>\n",
       "      <td>2017-08-19</td>\n",
       "      <td>0</td>\n",
       "      <td>4</td>\n",
       "      <td>-5.0</td>\n",
       "      <td>1.0</td>\n",
       "      <td>1.0</td>\n",
       "    </tr>\n",
       "    <tr>\n",
       "      <th>13</th>\n",
       "      <td>2017-08-18</td>\n",
       "      <td>0</td>\n",
       "      <td>3</td>\n",
       "      <td>-6.0</td>\n",
       "      <td>1.0</td>\n",
       "      <td>1.0</td>\n",
       "    </tr>\n",
       "    <tr>\n",
       "      <th>14</th>\n",
       "      <td>2017-08-17</td>\n",
       "      <td>0</td>\n",
       "      <td>2</td>\n",
       "      <td>-7.0</td>\n",
       "      <td>2.0</td>\n",
       "      <td>0.0</td>\n",
       "    </tr>\n",
       "    <tr>\n",
       "      <th>15</th>\n",
       "      <td>2017-08-16</td>\n",
       "      <td>0</td>\n",
       "      <td>1</td>\n",
       "      <td>-8.0</td>\n",
       "      <td>3.0</td>\n",
       "      <td>0.0</td>\n",
       "    </tr>\n",
       "    <tr>\n",
       "      <th>16</th>\n",
       "      <td>2017-08-15</td>\n",
       "      <td>1</td>\n",
       "      <td>0</td>\n",
       "      <td>0.0</td>\n",
       "      <td>3.0</td>\n",
       "      <td>1.0</td>\n",
       "    </tr>\n",
       "    <tr>\n",
       "      <th>17</th>\n",
       "      <td>2017-08-14</td>\n",
       "      <td>0</td>\n",
       "      <td>3</td>\n",
       "      <td>-1.0</td>\n",
       "      <td>2.0</td>\n",
       "      <td>1.0</td>\n",
       "    </tr>\n",
       "    <tr>\n",
       "      <th>18</th>\n",
       "      <td>2017-08-13</td>\n",
       "      <td>0</td>\n",
       "      <td>2</td>\n",
       "      <td>-2.0</td>\n",
       "      <td>2.0</td>\n",
       "      <td>1.0</td>\n",
       "    </tr>\n",
       "    <tr>\n",
       "      <th>19</th>\n",
       "      <td>2017-08-12</td>\n",
       "      <td>0</td>\n",
       "      <td>1</td>\n",
       "      <td>-3.0</td>\n",
       "      <td>2.0</td>\n",
       "      <td>1.0</td>\n",
       "    </tr>\n",
       "    <tr>\n",
       "      <th>20</th>\n",
       "      <td>2017-08-11</td>\n",
       "      <td>1</td>\n",
       "      <td>0</td>\n",
       "      <td>0.0</td>\n",
       "      <td>3.0</td>\n",
       "      <td>2.0</td>\n",
       "    </tr>\n",
       "    <tr>\n",
       "      <th>21</th>\n",
       "      <td>2017-08-10</td>\n",
       "      <td>1</td>\n",
       "      <td>0</td>\n",
       "      <td>0.0</td>\n",
       "      <td>2.0</td>\n",
       "      <td>3.0</td>\n",
       "    </tr>\n",
       "    <tr>\n",
       "      <th>22</th>\n",
       "      <td>2017-08-09</td>\n",
       "      <td>0</td>\n",
       "      <td>4</td>\n",
       "      <td>-1.0</td>\n",
       "      <td>1.0</td>\n",
       "      <td>3.0</td>\n",
       "    </tr>\n",
       "    <tr>\n",
       "      <th>23</th>\n",
       "      <td>2017-08-08</td>\n",
       "      <td>0</td>\n",
       "      <td>3</td>\n",
       "      <td>-2.0</td>\n",
       "      <td>1.0</td>\n",
       "      <td>2.0</td>\n",
       "    </tr>\n",
       "    <tr>\n",
       "      <th>24</th>\n",
       "      <td>2017-08-07</td>\n",
       "      <td>0</td>\n",
       "      <td>2</td>\n",
       "      <td>-3.0</td>\n",
       "      <td>1.0</td>\n",
       "      <td>2.0</td>\n",
       "    </tr>\n",
       "    <tr>\n",
       "      <th>25</th>\n",
       "      <td>2017-08-06</td>\n",
       "      <td>0</td>\n",
       "      <td>1</td>\n",
       "      <td>-4.0</td>\n",
       "      <td>1.0</td>\n",
       "      <td>2.0</td>\n",
       "    </tr>\n",
       "    <tr>\n",
       "      <th>26</th>\n",
       "      <td>2017-08-05</td>\n",
       "      <td>1</td>\n",
       "      <td>0</td>\n",
       "      <td>0.0</td>\n",
       "      <td>1.0</td>\n",
       "      <td>3.0</td>\n",
       "    </tr>\n",
       "    <tr>\n",
       "      <th>27</th>\n",
       "      <td>2017-08-04</td>\n",
       "      <td>0</td>\n",
       "      <td>10</td>\n",
       "      <td>-1.0</td>\n",
       "      <td>0.0</td>\n",
       "      <td>2.0</td>\n",
       "    </tr>\n",
       "    <tr>\n",
       "      <th>28</th>\n",
       "      <td>2017-08-03</td>\n",
       "      <td>0</td>\n",
       "      <td>9</td>\n",
       "      <td>-2.0</td>\n",
       "      <td>0.0</td>\n",
       "      <td>1.0</td>\n",
       "    </tr>\n",
       "    <tr>\n",
       "      <th>29</th>\n",
       "      <td>2017-08-02</td>\n",
       "      <td>0</td>\n",
       "      <td>8</td>\n",
       "      <td>-3.0</td>\n",
       "      <td>0.0</td>\n",
       "      <td>1.0</td>\n",
       "    </tr>\n",
       "    <tr>\n",
       "      <th>...</th>\n",
       "      <td>...</td>\n",
       "      <td>...</td>\n",
       "      <td>...</td>\n",
       "      <td>...</td>\n",
       "      <td>...</td>\n",
       "      <td>...</td>\n",
       "    </tr>\n",
       "    <tr>\n",
       "      <th>945</th>\n",
       "      <td>2015-01-29</td>\n",
       "      <td>0</td>\n",
       "      <td>19</td>\n",
       "      <td>-18.0</td>\n",
       "      <td>0.0</td>\n",
       "      <td>0.0</td>\n",
       "    </tr>\n",
       "    <tr>\n",
       "      <th>946</th>\n",
       "      <td>2015-01-28</td>\n",
       "      <td>0</td>\n",
       "      <td>18</td>\n",
       "      <td>-19.0</td>\n",
       "      <td>0.0</td>\n",
       "      <td>0.0</td>\n",
       "    </tr>\n",
       "    <tr>\n",
       "      <th>947</th>\n",
       "      <td>2015-01-27</td>\n",
       "      <td>0</td>\n",
       "      <td>17</td>\n",
       "      <td>-20.0</td>\n",
       "      <td>0.0</td>\n",
       "      <td>0.0</td>\n",
       "    </tr>\n",
       "    <tr>\n",
       "      <th>948</th>\n",
       "      <td>2015-01-26</td>\n",
       "      <td>0</td>\n",
       "      <td>16</td>\n",
       "      <td>-21.0</td>\n",
       "      <td>0.0</td>\n",
       "      <td>0.0</td>\n",
       "    </tr>\n",
       "    <tr>\n",
       "      <th>949</th>\n",
       "      <td>2015-01-25</td>\n",
       "      <td>0</td>\n",
       "      <td>15</td>\n",
       "      <td>-22.0</td>\n",
       "      <td>0.0</td>\n",
       "      <td>0.0</td>\n",
       "    </tr>\n",
       "    <tr>\n",
       "      <th>950</th>\n",
       "      <td>2015-01-24</td>\n",
       "      <td>0</td>\n",
       "      <td>14</td>\n",
       "      <td>-23.0</td>\n",
       "      <td>0.0</td>\n",
       "      <td>0.0</td>\n",
       "    </tr>\n",
       "    <tr>\n",
       "      <th>951</th>\n",
       "      <td>2015-01-23</td>\n",
       "      <td>0</td>\n",
       "      <td>13</td>\n",
       "      <td>-24.0</td>\n",
       "      <td>0.0</td>\n",
       "      <td>0.0</td>\n",
       "    </tr>\n",
       "    <tr>\n",
       "      <th>952</th>\n",
       "      <td>2015-01-22</td>\n",
       "      <td>0</td>\n",
       "      <td>12</td>\n",
       "      <td>-25.0</td>\n",
       "      <td>0.0</td>\n",
       "      <td>0.0</td>\n",
       "    </tr>\n",
       "    <tr>\n",
       "      <th>953</th>\n",
       "      <td>2015-01-21</td>\n",
       "      <td>0</td>\n",
       "      <td>11</td>\n",
       "      <td>-26.0</td>\n",
       "      <td>0.0</td>\n",
       "      <td>0.0</td>\n",
       "    </tr>\n",
       "    <tr>\n",
       "      <th>954</th>\n",
       "      <td>2015-01-20</td>\n",
       "      <td>0</td>\n",
       "      <td>10</td>\n",
       "      <td>-27.0</td>\n",
       "      <td>0.0</td>\n",
       "      <td>0.0</td>\n",
       "    </tr>\n",
       "    <tr>\n",
       "      <th>955</th>\n",
       "      <td>2015-01-19</td>\n",
       "      <td>0</td>\n",
       "      <td>9</td>\n",
       "      <td>-28.0</td>\n",
       "      <td>0.0</td>\n",
       "      <td>0.0</td>\n",
       "    </tr>\n",
       "    <tr>\n",
       "      <th>956</th>\n",
       "      <td>2015-01-18</td>\n",
       "      <td>0</td>\n",
       "      <td>8</td>\n",
       "      <td>-29.0</td>\n",
       "      <td>0.0</td>\n",
       "      <td>0.0</td>\n",
       "    </tr>\n",
       "    <tr>\n",
       "      <th>957</th>\n",
       "      <td>2015-01-17</td>\n",
       "      <td>0</td>\n",
       "      <td>7</td>\n",
       "      <td>-30.0</td>\n",
       "      <td>0.0</td>\n",
       "      <td>0.0</td>\n",
       "    </tr>\n",
       "    <tr>\n",
       "      <th>958</th>\n",
       "      <td>2015-01-16</td>\n",
       "      <td>0</td>\n",
       "      <td>6</td>\n",
       "      <td>-31.0</td>\n",
       "      <td>1.0</td>\n",
       "      <td>0.0</td>\n",
       "    </tr>\n",
       "    <tr>\n",
       "      <th>959</th>\n",
       "      <td>2015-01-15</td>\n",
       "      <td>0</td>\n",
       "      <td>5</td>\n",
       "      <td>-32.0</td>\n",
       "      <td>1.0</td>\n",
       "      <td>0.0</td>\n",
       "    </tr>\n",
       "    <tr>\n",
       "      <th>960</th>\n",
       "      <td>2015-01-14</td>\n",
       "      <td>0</td>\n",
       "      <td>4</td>\n",
       "      <td>-33.0</td>\n",
       "      <td>1.0</td>\n",
       "      <td>0.0</td>\n",
       "    </tr>\n",
       "    <tr>\n",
       "      <th>961</th>\n",
       "      <td>2015-01-13</td>\n",
       "      <td>0</td>\n",
       "      <td>3</td>\n",
       "      <td>-34.0</td>\n",
       "      <td>1.0</td>\n",
       "      <td>0.0</td>\n",
       "    </tr>\n",
       "    <tr>\n",
       "      <th>962</th>\n",
       "      <td>2015-01-12</td>\n",
       "      <td>0</td>\n",
       "      <td>2</td>\n",
       "      <td>-35.0</td>\n",
       "      <td>1.0</td>\n",
       "      <td>0.0</td>\n",
       "    </tr>\n",
       "    <tr>\n",
       "      <th>963</th>\n",
       "      <td>2015-01-11</td>\n",
       "      <td>0</td>\n",
       "      <td>1</td>\n",
       "      <td>-36.0</td>\n",
       "      <td>1.0</td>\n",
       "      <td>0.0</td>\n",
       "    </tr>\n",
       "    <tr>\n",
       "      <th>964</th>\n",
       "      <td>2015-01-10</td>\n",
       "      <td>1</td>\n",
       "      <td>0</td>\n",
       "      <td>0.0</td>\n",
       "      <td>1.0</td>\n",
       "      <td>1.0</td>\n",
       "    </tr>\n",
       "    <tr>\n",
       "      <th>965</th>\n",
       "      <td>2015-01-09</td>\n",
       "      <td>0</td>\n",
       "      <td>7</td>\n",
       "      <td>-1.0</td>\n",
       "      <td>0.0</td>\n",
       "      <td>1.0</td>\n",
       "    </tr>\n",
       "    <tr>\n",
       "      <th>966</th>\n",
       "      <td>2015-01-08</td>\n",
       "      <td>0</td>\n",
       "      <td>6</td>\n",
       "      <td>-2.0</td>\n",
       "      <td>1.0</td>\n",
       "      <td>1.0</td>\n",
       "    </tr>\n",
       "    <tr>\n",
       "      <th>967</th>\n",
       "      <td>2015-01-07</td>\n",
       "      <td>0</td>\n",
       "      <td>5</td>\n",
       "      <td>-3.0</td>\n",
       "      <td>2.0</td>\n",
       "      <td>1.0</td>\n",
       "    </tr>\n",
       "    <tr>\n",
       "      <th>968</th>\n",
       "      <td>2015-01-06</td>\n",
       "      <td>0</td>\n",
       "      <td>4</td>\n",
       "      <td>-4.0</td>\n",
       "      <td>3.0</td>\n",
       "      <td>1.0</td>\n",
       "    </tr>\n",
       "    <tr>\n",
       "      <th>969</th>\n",
       "      <td>2015-01-05</td>\n",
       "      <td>0</td>\n",
       "      <td>3</td>\n",
       "      <td>-5.0</td>\n",
       "      <td>3.0</td>\n",
       "      <td>1.0</td>\n",
       "    </tr>\n",
       "    <tr>\n",
       "      <th>970</th>\n",
       "      <td>2015-01-04</td>\n",
       "      <td>0</td>\n",
       "      <td>2</td>\n",
       "      <td>-6.0</td>\n",
       "      <td>3.0</td>\n",
       "      <td>1.0</td>\n",
       "    </tr>\n",
       "    <tr>\n",
       "      <th>971</th>\n",
       "      <td>2015-01-03</td>\n",
       "      <td>0</td>\n",
       "      <td>1</td>\n",
       "      <td>-7.0</td>\n",
       "      <td>3.0</td>\n",
       "      <td>0.0</td>\n",
       "    </tr>\n",
       "    <tr>\n",
       "      <th>972</th>\n",
       "      <td>2015-01-02</td>\n",
       "      <td>1</td>\n",
       "      <td>0</td>\n",
       "      <td>0.0</td>\n",
       "      <td>3.0</td>\n",
       "      <td>1.0</td>\n",
       "    </tr>\n",
       "    <tr>\n",
       "      <th>973</th>\n",
       "      <td>2015-01-01</td>\n",
       "      <td>1</td>\n",
       "      <td>0</td>\n",
       "      <td>0.0</td>\n",
       "      <td>2.0</td>\n",
       "      <td>2.0</td>\n",
       "    </tr>\n",
       "    <tr>\n",
       "      <th>974</th>\n",
       "      <td>2014-12-31</td>\n",
       "      <td>1</td>\n",
       "      <td>0</td>\n",
       "      <td>0.0</td>\n",
       "      <td>1.0</td>\n",
       "      <td>3.0</td>\n",
       "    </tr>\n",
       "  </tbody>\n",
       "</table>\n",
       "<p>975 rows × 6 columns</p>\n",
       "</div>"
      ],
      "text/plain": [
       "           date  holiday  Afterholiday  Beforeholiday  holiday_bw  holiday_fw\n",
       "0    2017-08-31        0             7          -28.0         0.0         0.0\n",
       "1    2017-08-30        0             6          -29.0         1.0         0.0\n",
       "2    2017-08-29        0             5          -30.0         1.0         0.0\n",
       "3    2017-08-28        0             4          -31.0         1.0         0.0\n",
       "4    2017-08-27        0             3          -32.0         1.0         0.0\n",
       "5    2017-08-26        0             2          -33.0         1.0         0.0\n",
       "6    2017-08-25        0             1          -34.0         1.0         0.0\n",
       "7    2017-08-24        1             0            0.0         1.0         1.0\n",
       "8    2017-08-23        0             8           -1.0         0.0         1.0\n",
       "9    2017-08-22        0             7           -2.0         0.0         1.0\n",
       "10   2017-08-21        0             6           -3.0         1.0         1.0\n",
       "11   2017-08-20        0             5           -4.0         1.0         1.0\n",
       "12   2017-08-19        0             4           -5.0         1.0         1.0\n",
       "13   2017-08-18        0             3           -6.0         1.0         1.0\n",
       "14   2017-08-17        0             2           -7.0         2.0         0.0\n",
       "15   2017-08-16        0             1           -8.0         3.0         0.0\n",
       "16   2017-08-15        1             0            0.0         3.0         1.0\n",
       "17   2017-08-14        0             3           -1.0         2.0         1.0\n",
       "18   2017-08-13        0             2           -2.0         2.0         1.0\n",
       "19   2017-08-12        0             1           -3.0         2.0         1.0\n",
       "20   2017-08-11        1             0            0.0         3.0         2.0\n",
       "21   2017-08-10        1             0            0.0         2.0         3.0\n",
       "22   2017-08-09        0             4           -1.0         1.0         3.0\n",
       "23   2017-08-08        0             3           -2.0         1.0         2.0\n",
       "24   2017-08-07        0             2           -3.0         1.0         2.0\n",
       "25   2017-08-06        0             1           -4.0         1.0         2.0\n",
       "26   2017-08-05        1             0            0.0         1.0         3.0\n",
       "27   2017-08-04        0            10           -1.0         0.0         2.0\n",
       "28   2017-08-03        0             9           -2.0         0.0         1.0\n",
       "29   2017-08-02        0             8           -3.0         0.0         1.0\n",
       "..          ...      ...           ...            ...         ...         ...\n",
       "945  2015-01-29        0            19          -18.0         0.0         0.0\n",
       "946  2015-01-28        0            18          -19.0         0.0         0.0\n",
       "947  2015-01-27        0            17          -20.0         0.0         0.0\n",
       "948  2015-01-26        0            16          -21.0         0.0         0.0\n",
       "949  2015-01-25        0            15          -22.0         0.0         0.0\n",
       "950  2015-01-24        0            14          -23.0         0.0         0.0\n",
       "951  2015-01-23        0            13          -24.0         0.0         0.0\n",
       "952  2015-01-22        0            12          -25.0         0.0         0.0\n",
       "953  2015-01-21        0            11          -26.0         0.0         0.0\n",
       "954  2015-01-20        0            10          -27.0         0.0         0.0\n",
       "955  2015-01-19        0             9          -28.0         0.0         0.0\n",
       "956  2015-01-18        0             8          -29.0         0.0         0.0\n",
       "957  2015-01-17        0             7          -30.0         0.0         0.0\n",
       "958  2015-01-16        0             6          -31.0         1.0         0.0\n",
       "959  2015-01-15        0             5          -32.0         1.0         0.0\n",
       "960  2015-01-14        0             4          -33.0         1.0         0.0\n",
       "961  2015-01-13        0             3          -34.0         1.0         0.0\n",
       "962  2015-01-12        0             2          -35.0         1.0         0.0\n",
       "963  2015-01-11        0             1          -36.0         1.0         0.0\n",
       "964  2015-01-10        1             0            0.0         1.0         1.0\n",
       "965  2015-01-09        0             7           -1.0         0.0         1.0\n",
       "966  2015-01-08        0             6           -2.0         1.0         1.0\n",
       "967  2015-01-07        0             5           -3.0         2.0         1.0\n",
       "968  2015-01-06        0             4           -4.0         3.0         1.0\n",
       "969  2015-01-05        0             3           -5.0         3.0         1.0\n",
       "970  2015-01-04        0             2           -6.0         3.0         1.0\n",
       "971  2015-01-03        0             1           -7.0         3.0         0.0\n",
       "972  2015-01-02        1             0            0.0         3.0         1.0\n",
       "973  2015-01-01        1             0            0.0         2.0         2.0\n",
       "974  2014-12-31        1             0            0.0         1.0         3.0\n",
       "\n",
       "[975 rows x 6 columns]"
      ]
     },
     "execution_count": 9,
     "metadata": {},
     "output_type": "execute_result"
    }
   ],
   "source": [
    "all_days = all_days.merge(bwd_days,on='date',how=\"left\",suffixes=['','_bw'],copy=False)\n",
    "del bwd_days\n",
    "all_days = all_days.merge(fwd_days,on='date',how=\"left\",suffixes=['','_fw'],copy=False)\n",
    "del fwd_days\n",
    "all_days"
   ]
  },
  {
   "cell_type": "code",
   "execution_count": 10,
   "metadata": {
    "collapsed": true
   },
   "outputs": [],
   "source": [
    "def is_salary_day(date):\n",
    "    return 1 if (date.day == 15 or calendar.monthrange(date.year,date.month)[1]==date.day) else 0\n",
    "train['salary_day'] = train.date.apply(is_salary_day)"
   ]
  },
  {
   "cell_type": "code",
   "execution_count": 11,
   "metadata": {
    "collapsed": true
   },
   "outputs": [],
   "source": [
    "all_days = all_days[all_days.date.isin(train.date.unique())]\n",
    "import pickle\n",
    "pickle.dump(all_days,open(\"results/all_days.pkl\",'wb'))"
   ]
  },
  {
   "cell_type": "code",
   "execution_count": 12,
   "metadata": {},
   "outputs": [
    {
     "data": {
      "text/plain": [
       "(956, 6)"
      ]
     },
     "execution_count": 12,
     "metadata": {},
     "output_type": "execute_result"
    }
   ],
   "source": [
    "all_days.shape"
   ]
  },
  {
   "cell_type": "code",
   "execution_count": 13,
   "metadata": {},
   "outputs": [
    {
     "name": "stdout",
     "output_type": "stream",
     "text": [
      "          date  holiday  Afterholiday  Beforeholiday  holiday_bw  holiday_fw\n",
      "16  2017-08-15        1             0            0.0         3.0         1.0\n",
      "17  2017-08-14        0             3           -1.0         2.0         1.0\n",
      "18  2017-08-13        0             2           -2.0         2.0         1.0\n",
      "19  2017-08-12        0             1           -3.0         2.0         1.0\n",
      "20  2017-08-11        1             0            0.0         3.0         2.0\n",
      "(86902776, 7)\n"
     ]
    }
   ],
   "source": [
    "print(all_days.head())\n",
    "print(train.shape)"
   ]
  },
  {
   "cell_type": "code",
   "execution_count": 14,
   "metadata": {},
   "outputs": [
    {
     "data": {
      "text/plain": [
       "203"
      ]
     },
     "execution_count": 14,
     "metadata": {},
     "output_type": "execute_result"
    }
   ],
   "source": [
    "joined = train.merge(all_days,on='date',how='left',copy=False)\n",
    "del train\n",
    "import gc\n",
    "gc.collect()"
   ]
  },
  {
   "cell_type": "code",
   "execution_count": 15,
   "metadata": {},
   "outputs": [
    {
     "name": "stdout",
     "output_type": "stream",
     "text": [
      "(86902776, 12)\n",
      "(86902776, 8)\n"
     ]
    }
   ],
   "source": [
    "print(joined.shape)\n",
    "df = pickle.load(open('results/onpromotion_features.pickle','rb'))\n",
    "print(df.shape)"
   ]
  },
  {
   "cell_type": "code",
   "execution_count": 16,
   "metadata": {},
   "outputs": [
    {
     "data": {
      "text/html": [
       "<div>\n",
       "<style>\n",
       "    .dataframe thead tr:only-child th {\n",
       "        text-align: right;\n",
       "    }\n",
       "\n",
       "    .dataframe thead th {\n",
       "        text-align: left;\n",
       "    }\n",
       "\n",
       "    .dataframe tbody tr th {\n",
       "        vertical-align: top;\n",
       "    }\n",
       "</style>\n",
       "<table border=\"1\" class=\"dataframe\">\n",
       "  <thead>\n",
       "    <tr style=\"text-align: right;\">\n",
       "      <th></th>\n",
       "      <th>date</th>\n",
       "      <th>store_nbr</th>\n",
       "      <th>item_nbr</th>\n",
       "      <th>onpromotion</th>\n",
       "      <th>Afteronpromotion</th>\n",
       "      <th>Beforeonpromotion</th>\n",
       "      <th>onpromotion_bw</th>\n",
       "      <th>onpromotion_fw</th>\n",
       "    </tr>\n",
       "  </thead>\n",
       "  <tbody>\n",
       "    <tr>\n",
       "      <th>0</th>\n",
       "      <td>2017-08-10</td>\n",
       "      <td>1</td>\n",
       "      <td>96995</td>\n",
       "      <td>0</td>\n",
       "      <td>0.0</td>\n",
       "      <td>0.0</td>\n",
       "      <td>0.0</td>\n",
       "      <td>0.0</td>\n",
       "    </tr>\n",
       "    <tr>\n",
       "      <th>1</th>\n",
       "      <td>2017-08-07</td>\n",
       "      <td>1</td>\n",
       "      <td>96995</td>\n",
       "      <td>0</td>\n",
       "      <td>0.0</td>\n",
       "      <td>0.0</td>\n",
       "      <td>0.0</td>\n",
       "      <td>0.0</td>\n",
       "    </tr>\n",
       "    <tr>\n",
       "      <th>2</th>\n",
       "      <td>2017-08-06</td>\n",
       "      <td>1</td>\n",
       "      <td>96995</td>\n",
       "      <td>0</td>\n",
       "      <td>0.0</td>\n",
       "      <td>0.0</td>\n",
       "      <td>0.0</td>\n",
       "      <td>0.0</td>\n",
       "    </tr>\n",
       "    <tr>\n",
       "      <th>3</th>\n",
       "      <td>2017-08-03</td>\n",
       "      <td>1</td>\n",
       "      <td>96995</td>\n",
       "      <td>0</td>\n",
       "      <td>0.0</td>\n",
       "      <td>0.0</td>\n",
       "      <td>0.0</td>\n",
       "      <td>0.0</td>\n",
       "    </tr>\n",
       "    <tr>\n",
       "      <th>4</th>\n",
       "      <td>2017-08-02</td>\n",
       "      <td>1</td>\n",
       "      <td>96995</td>\n",
       "      <td>0</td>\n",
       "      <td>0.0</td>\n",
       "      <td>0.0</td>\n",
       "      <td>0.0</td>\n",
       "      <td>0.0</td>\n",
       "    </tr>\n",
       "  </tbody>\n",
       "</table>\n",
       "</div>"
      ],
      "text/plain": [
       "         date  store_nbr  item_nbr  onpromotion  Afteronpromotion  \\\n",
       "0  2017-08-10          1     96995            0               0.0   \n",
       "1  2017-08-07          1     96995            0               0.0   \n",
       "2  2017-08-06          1     96995            0               0.0   \n",
       "3  2017-08-03          1     96995            0               0.0   \n",
       "4  2017-08-02          1     96995            0               0.0   \n",
       "\n",
       "   Beforeonpromotion  onpromotion_bw  onpromotion_fw  \n",
       "0                0.0             0.0             0.0  \n",
       "1                0.0             0.0             0.0  \n",
       "2                0.0             0.0             0.0  \n",
       "3                0.0             0.0             0.0  \n",
       "4                0.0             0.0             0.0  "
      ]
     },
     "execution_count": 16,
     "metadata": {},
     "output_type": "execute_result"
    }
   ],
   "source": [
    "df.head()"
   ]
  },
  {
   "cell_type": "code",
   "execution_count": 17,
   "metadata": {},
   "outputs": [
    {
     "name": "stdout",
     "output_type": "stream",
     "text": [
      "(86902776, 17)\n"
     ]
    }
   ],
   "source": [
    "joined = joined.merge(df,on=['store_nbr','item_nbr','date'],copy=False)\n",
    "print(joined.shape)"
   ]
  },
  {
   "cell_type": "code",
   "execution_count": 18,
   "metadata": {},
   "outputs": [
    {
     "data": {
      "text/plain": [
       "Index(['store_nbr', 'city', 'state', 'type', 'cluster'], dtype='object')"
      ]
     },
     "execution_count": 18,
     "metadata": {},
     "output_type": "execute_result"
    }
   ],
   "source": [
    "stores.columns"
   ]
  },
  {
   "cell_type": "code",
   "execution_count": 19,
   "metadata": {},
   "outputs": [
    {
     "name": "stdout",
     "output_type": "stream",
     "text": [
      "(86902776, 21)\n"
     ]
    }
   ],
   "source": [
    "del df\n",
    "gc.collect()\n",
    "joined = joined.merge(stores,on='store_nbr',how=\"left\",copy=False)\n",
    "print(joined.shape)"
   ]
  },
  {
   "cell_type": "code",
   "execution_count": 20,
   "metadata": {},
   "outputs": [
    {
     "name": "stdout",
     "output_type": "stream",
     "text": [
      "(86902776, 24)\n"
     ]
    }
   ],
   "source": [
    "joined = joined.merge(items,on='item_nbr',how=\"left\",copy=False)\n",
    "print(joined.shape)"
   ]
  },
  {
   "cell_type": "code",
   "execution_count": 21,
   "metadata": {},
   "outputs": [
    {
     "name": "stdout",
     "output_type": "stream",
     "text": [
      "Index(['date', 'type', 'locale', 'locale_name', 'description', 'transferred'], dtype='object')\n",
      "<class 'datetime.date'>\n"
     ]
    }
   ],
   "source": [
    "print(holidays_events.columns)\n",
    "print(type(holidays_events.date[0]))\n",
    "holidays_events = holidays_events[['date','type','locale','locale_name','description']]"
   ]
  },
  {
   "cell_type": "code",
   "execution_count": 22,
   "metadata": {},
   "outputs": [
    {
     "name": "stdout",
     "output_type": "stream",
     "text": [
      "300\n",
      "(338, 5)\n"
     ]
    }
   ],
   "source": [
    "print(len(holidays_events.date.unique()))\n",
    "print(holidays_events.shape)"
   ]
  },
  {
   "cell_type": "code",
   "execution_count": 23,
   "metadata": {},
   "outputs": [
    {
     "name": "stdout",
     "output_type": "stream",
     "text": [
      "(88776319, 28)\n"
     ]
    }
   ],
   "source": [
    "joined = joined.merge(holidays_events,on='date',how=\"left\",copy=False)\n",
    "print(joined.shape)"
   ]
  },
  {
   "cell_type": "code",
   "execution_count": 24,
   "metadata": {},
   "outputs": [
    {
     "name": "stdout",
     "output_type": "stream",
     "text": [
      "(88776319, 29)\n"
     ]
    }
   ],
   "source": [
    "joined = joined.merge(oil,on=\"date\",how=\"left\",copy=False)\n",
    "print(joined.shape)"
   ]
  },
  {
   "cell_type": "code",
   "execution_count": 25,
   "metadata": {},
   "outputs": [
    {
     "name": "stdout",
     "output_type": "stream",
     "text": [
      "(88776319, 30)\n",
      "         id        date  store_nbr  item_nbr  unit_sales  onpromotion_x  \\\n",
      "0  38594264  2015-01-01         25    103665        12.0          False   \n",
      "1  38594265  2015-01-01         25    105575        23.0          False   \n",
      "2  38594266  2015-01-01         25    108634         1.0          False   \n",
      "3  38594267  2015-01-01         25    108698         6.0          False   \n",
      "4  38594268  2015-01-01         25    108786         6.0          False   \n",
      "\n",
      "   salary_day  holiday  Afterholiday  Beforeholiday     ...       cluster  \\\n",
      "0           0        1             0            0.0     ...             1   \n",
      "1           0        1             0            0.0     ...             1   \n",
      "2           0        1             0            0.0     ...             1   \n",
      "3           0        1             0            0.0     ...             1   \n",
      "4           0        1             0            0.0     ...             1   \n",
      "\n",
      "         family  class  perishable   type_y    locale  locale_name  \\\n",
      "0  BREAD/BAKERY   2712           1  Holiday  National      Ecuador   \n",
      "1     GROCERY I   1045           0  Holiday  National      Ecuador   \n",
      "2     GROCERY I   1075           0  Holiday  National      Ecuador   \n",
      "3          DELI   2644           1  Holiday  National      Ecuador   \n",
      "4      CLEANING   3044           0  Holiday  National      Ecuador   \n",
      "\n",
      "          description dcoilwtico transactions  \n",
      "0  Primer dia del ano      53.45       2202.0  \n",
      "1  Primer dia del ano      53.45       2202.0  \n",
      "2  Primer dia del ano      53.45       2202.0  \n",
      "3  Primer dia del ano      53.45       2202.0  \n",
      "4  Primer dia del ano      53.45       2202.0  \n",
      "\n",
      "[5 rows x 30 columns]\n"
     ]
    },
    {
     "data": {
      "text/plain": [
       "297"
      ]
     },
     "execution_count": 25,
     "metadata": {},
     "output_type": "execute_result"
    }
   ],
   "source": [
    "gc.collect()\n",
    "joined = joined.merge(transactions,on=['date','store_nbr'],how=\"left\",copy=False)\n",
    "print(joined.shape)\n",
    "print(joined.head())\n",
    "gc.collect()"
   ]
  },
  {
   "cell_type": "code",
   "execution_count": 26,
   "metadata": {},
   "outputs": [],
   "source": [
    "#pickle.dump(joined,open('results/joined.pickle','wb'))\n",
    "gc.collect()\n",
    "def add_datepart(df,column_name):\n",
    "    df[column_name] = pd.to_datetime(df[column_name])\n",
    "    df[\"Year\"] = df[column_name].dt.year\n",
    "    df[\"Month\"] = df[column_name].dt.month\n",
    "    df[\"Week\"] = df[column_name].dt.week\n",
    "    df[\"Day\"] = df[column_name].dt.day\n",
    "add_datepart(joined,'date')"
   ]
  },
  {
   "cell_type": "code",
   "execution_count": 27,
   "metadata": {},
   "outputs": [],
   "source": [
    "joined.to_csv('results/joined.csv')"
   ]
  },
  {
   "cell_type": "code",
   "execution_count": 28,
   "metadata": {},
   "outputs": [
    {
     "data": {
      "text/plain": [
       "2015"
      ]
     },
     "execution_count": 28,
     "metadata": {},
     "output_type": "execute_result"
    }
   ],
   "source": [
    "gc.collect()\n",
    "(joined.date[0].year)"
   ]
  },
  {
   "cell_type": "code",
   "execution_count": 29,
   "metadata": {},
   "outputs": [
    {
     "data": {
      "text/plain": [
       "Index(['id', 'date', 'store_nbr', 'item_nbr', 'unit_sales', 'onpromotion_x',\n",
       "       'salary_day', 'holiday', 'Afterholiday', 'Beforeholiday', 'holiday_bw',\n",
       "       'holiday_fw', 'onpromotion_y', 'Afteronpromotion', 'Beforeonpromotion',\n",
       "       'onpromotion_bw', 'onpromotion_fw', 'city', 'state', 'type_x',\n",
       "       'cluster', 'family', 'class', 'perishable', 'type_y', 'locale',\n",
       "       'locale_name', 'description', 'dcoilwtico', 'transactions', 'Year',\n",
       "       'Month', 'Week', 'Day'],\n",
       "      dtype='object')"
      ]
     },
     "execution_count": 29,
     "metadata": {},
     "output_type": "execute_result"
    }
   ],
   "source": [
    "joined.columns"
   ]
  },
  {
   "cell_type": "code",
   "execution_count": 32,
   "metadata": {},
   "outputs": [
    {
     "data": {
      "text/plain": [
       "array([  0.,  -7.,  -6.,  -5.,  -4.,  -3.,  -2.,  -1., -36., -35., -34.,\n",
       "       -33., -32., -31., -30., -29., -28., -27., -26., -25., -24., -23.,\n",
       "       -22., -21., -20., -19., -18., -17., -16., -15., -14., -13., -12.,\n",
       "       -11., -10.,  -9.,  -8., -37., -55., -54., -53., -52., -51., -50.,\n",
       "       -49., -48., -47., -46., -45., -44., -43., -42., -41., -40., -39.,\n",
       "       -38.])"
      ]
     },
     "execution_count": 32,
     "metadata": {},
     "output_type": "execute_result"
    }
   ],
   "source": [
    "(joined.Beforeholiday.unique())"
   ]
  },
  {
   "cell_type": "code",
   "execution_count": null,
   "metadata": {
    "collapsed": true
   },
   "outputs": [],
   "source": []
  }
 ],
 "metadata": {
  "kernelspec": {
   "display_name": "Python 3",
   "language": "python",
   "name": "python3"
  },
  "language_info": {
   "codemirror_mode": {
    "name": "ipython",
    "version": 3
   },
   "file_extension": ".py",
   "mimetype": "text/x-python",
   "name": "python",
   "nbconvert_exporter": "python",
   "pygments_lexer": "ipython3",
   "version": "3.5.4"
  }
 },
 "nbformat": 4,
 "nbformat_minor": 2
}
