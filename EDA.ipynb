{
 "cells": [
  {
   "cell_type": "markdown",
   "metadata": {},
   "source": [
    "# EDA for Corporación Favorita Grocery Sales Forecasting kaggle challenge\n",
    "## Load Libraries"
   ]
  },
  {
   "cell_type": "code",
   "execution_count": 193,
   "metadata": {},
   "outputs": [],
   "source": [
    "import pandas as pd\n",
    "import matplotlib.pyplot as plt\n",
    "import cloudpickle as cpkl\n",
    "from pathlib import Path\n",
    "import numpy as np\n",
    "from functools import reduce\n",
    "%matplotlib inline "
   ]
  },
  {
   "cell_type": "markdown",
   "metadata": {},
   "source": [
    "## Load Data"
   ]
  },
  {
   "cell_type": "markdown",
   "metadata": {},
   "source": [
    "The data files (especially, the train.csv) are rather large. So, using cloudpickle, I save the train and test data as separate binary files. First check if these files are present. If present, load them. Otherwise, create binary files ans save them"
   ]
  },
  {
   "cell_type": "code",
   "execution_count": 11,
   "metadata": {},
   "outputs": [
    {
     "name": "stdout",
     "output_type": "stream",
     "text": [
      "Loading train dump\n",
      "Loading test dump\n",
      "   id        date  store_nbr  item_nbr  unit_sales onpromotion\n",
      "0   0  2013-01-01         25    103665         7.0         NaN\n",
      "1   1  2013-01-01         25    105574         1.0         NaN\n",
      "2   2  2013-01-01         25    105575         2.0         NaN\n",
      "3   3  2013-01-01         25    108079         1.0         NaN\n",
      "4   4  2013-01-01         25    108701         1.0         NaN\n",
      "          id        date  store_nbr  item_nbr  onpromotion\n",
      "0  125497040  2017-08-16          1     96995        False\n",
      "1  125497041  2017-08-16          1     99197        False\n",
      "2  125497042  2017-08-16          1    103501        False\n",
      "3  125497043  2017-08-16          1    103520        False\n",
      "4  125497044  2017-08-16          1    103665        False\n"
     ]
    }
   ],
   "source": [
    "train_pkl_file = 'input/train_pkl'\n",
    "test_pkl_file = 'input/test_pkl'\n",
    "if not Path(train_pkl_file).is_file():\n",
    "    train = pd.read_csv(\"input/train.csv\")\n",
    "    print(train.head())\n",
    "    transactions = pd.read_csv(\"input/transactions.csv\")\n",
    "    stores = pd.read_csv(\"input/stores.csv\")\n",
    "    oil = pd.read_csv(\"input/oil.csv\")\n",
    "    items = pd.read_csv(\"input/items.csv\")\n",
    "    holidays_events = pd.read_csv(\"input/holidays_events.csv\")\n",
    "    train_dumps = cpkl.dumps([train,transactions,stores,oil,items,holidays_events])\n",
    "    with open(train_pkl_file,'wb') as f:\n",
    "        f.write(train_dumps)\n",
    "else:\n",
    "    print('Loading train dump')\n",
    "    train,transactions,stores,oil,items,holidays_events = cpkl.loads(open(train_pkl_file,'rb').read())\n",
    "if not Path(test_pkl_file):\n",
    "    test = pd.read_csv(\"input/test.csv\")\n",
    "    test_dumps = cpkl.dumps(test)\n",
    "    with open(test_pkl_file,'wb') as f:\n",
    "        f.write(test_dumps)\n",
    "else:\n",
    "    print(\"Loading test dump\")\n",
    "    test = cpkl.loads(open(test_pkl_file,'rb').read())\n",
    "print(train.head())\n",
    "print(test.head())\n"
   ]
  },
  {
   "cell_type": "markdown",
   "metadata": {},
   "source": [
    "## File Descriptions and Data Field Information (From the competition page)\n",
    "### train.csv\n",
    "Training data, which includes the target unit_sales by date, store_nbr, and item_nbr and a unique id to label rows.\n",
    "The target unit_sales can be integer (e.g., a bag of chips) or float (e.g., 1.5 kg of cheese).\n",
    "Negative values of unit_sales represent returns of that particular item.\n",
    "The onpromotion column tells whether that item_nbr was on promotion for a specified date and store_nbr.\n",
    "Approximately 16% of the onpromotion values in this file are NaN.\n",
    "\n",
    "**NOTE**: The training data does not include rows for items that had zero unit_sales for a store/date combination. There is no information as to whether or not the item was in stock for the store on the date, and teams will need to decide the best way to handle that situation. Also, there are a small number of items seen in the training data that aren't seen in the test data.\n",
    "\n",
    "### test.csv\n",
    "\n",
    "Test data, with the date, store_nbr, item_nbr combinations that are to be predicted, along with the onpromotion information.\n",
    "\n",
    "**NOTE**: The test data has a small number of items that are not contained in the training data. Part of the exercise will be to predict a new item sales based on similar products..\n",
    "The public / private leaderboard split is based on time. All items in the public split are also included in the private split.\n",
    "\n",
    "### sample_submission.csv\n",
    "\n",
    "A sample submission file in the correct format.\n",
    "It is highly recommend you zip your submission file before uploading!\n",
    "\n",
    "### stores.csv\n",
    "\n",
    "Store metadata, including city, state, type, and cluster.\n",
    "cluster is a grouping of similar stores.\n",
    "\n",
    "### items.csv\n",
    "\n",
    "Item metadata, including family, class, and perishable.\n",
    "\n",
    "**NOTE**: Items marked as perishable have a score weight of 1.25; otherwise, the weight is 1.0.\n",
    "\n",
    "### transactions.csv\n",
    "\n",
    "The count of sales transactions for each date, store_nbr combination. Only included for the training data timeframe.\n",
    "\n",
    "### oil.csv\n",
    "\n",
    "Daily oil price. Includes values during both the train and test data timeframe. (Ecuador is an oil-dependent country and it's economical health is highly vulnerable to shocks in oil prices.)\n",
    "\n",
    "### holidays_events.csv\n",
    "\n",
    "Holidays and Events, with metadata\n",
    "\n",
    "**NOTE**: Pay special attention to the transferred column. A holiday that is transferred officially falls on that calendar day, but was moved to another date by the government. A transferred day is more like a normal day than a holiday. To find the day that it was actually celebrated, look for the corresponding row where type is Transfer. For example, the holiday Independencia de Guayaquil was transferred from 2012-10-09 to 2012-10-12, which means it was celebrated on 2012-10-12. Days that are type Bridge are extra days that are added to a holiday (e.g., to extend the break across a long weekend). These are frequently made up by the type Work Day which is a day not normally scheduled for work (e.g., Saturday) that is meant to payback the Bridge.\n",
    "Additional holidays are days added a regular calendar holiday, for example, as typically happens around Christmas (making Christmas Eve a holiday).\n",
    "Additional Notes\n",
    "\n",
    "Wages in the public sector are paid every two weeks on the 15 th and on the last day of the month. Supermarket sales could be affected by this.\n",
    "A magnitude 7.8 earthquake struck Ecuador on April 16, 2016. People rallied in relief efforts donating water and other first need products which greatly affected supermarket sales for several weeks after the earthquake."
   ]
  },
  {
   "cell_type": "markdown",
   "metadata": {},
   "source": [
    "## Quick facts from data - train.\n"
   ]
  },
  {
   "cell_type": "code",
   "execution_count": 24,
   "metadata": {},
   "outputs": [
    {
     "name": "stdout",
     "output_type": "stream",
     "text": [
      "54\n",
      "3997\n"
     ]
    }
   ],
   "source": [
    "train = train.sample(int(0.05*len(train)))\n",
    "print(len(train['store_nbr'].unique())) # 54 with full train\n",
    "print(len(train['item_nbr'].unique())) # 4036 with full train"
   ]
  },
  {
   "cell_type": "markdown",
   "metadata": {},
   "source": [
    "Convert train['date'] to datetime for analysis and calculate the time period of provided data"
   ]
  },
  {
   "cell_type": "code",
   "execution_count": 25,
   "metadata": {},
   "outputs": [
    {
     "name": "stdout",
     "output_type": "stream",
     "text": [
      "2017-08-15 00:00:00\n",
      "2013-01-01 00:00:00\n"
     ]
    }
   ],
   "source": [
    "if type(train['date']) ==str :\n",
    "    train['date'] = pd.to_datetime(train['date'])\n",
    "print(max(train['date'])) #2017-08-15 00:00:00 with full train\n",
    "print(min(train['date'])) #2013-01-01 00:00:00 with full train"
   ]
  },
  {
   "cell_type": "markdown",
   "metadata": {},
   "source": [
    "## Quick Plots\n",
    "### Unique Items per Store"
   ]
  },
  {
   "cell_type": "code",
   "execution_count": 45,
   "metadata": {},
   "outputs": [
    {
     "data": {
      "text/plain": [
       "<matplotlib.axes._subplots.AxesSubplot at 0x7f181ea843c8>"
      ]
     },
     "execution_count": 45,
     "metadata": {},
     "output_type": "execute_result"
    },
    {
     "data": {
      "image/png": "[encoded data removed]",
      "text/plain": [
       "<matplotlib.figure.Figure at 0x7f19a4f71400>"
      ]
     },
     "metadata": {},
     "output_type": "display_data"
    }
   ],
   "source": [
    "itemsPerStoreGrp = train.groupby('store_nbr').agg({\"item_nbr\":pd.Series.nunique})\n",
    "itemsPerStoreGrp.plot.bar(title=\"# unique items per store\")\n"
   ]
  },
  {
   "cell_type": "markdown",
   "metadata": {},
   "source": [
    "It is interesting that Store number 52 sells way less items compared to the rest (~1/2 median unique items)\n",
    "### Distribution of promotional items per store"
   ]
  },
  {
   "cell_type": "code",
   "execution_count": 70,
   "metadata": {},
   "outputs": [
    {
     "data": {
      "text/plain": [
       "<matplotlib.axes._subplots.AxesSubplot at 0x7f195b7554e0>"
      ]
     },
     "execution_count": 70,
     "metadata": {},
     "output_type": "execute_result"
    },
    {
     "data": {
      "image/png": "[encoded data removed]",
      "text/plain": [
       "<matplotlib.figure.Figure at 0x7f195cf8a6d8>"
      ]
     },
     "metadata": {},
     "output_type": "display_data"
    }
   ],
   "source": [
    "promotionsPerStoreAndItem = train.groupby(['store_nbr']).agg({\"onpromotion\":sum,\"item_nbr\":len})\n",
    "promotionsPerStoreAndItem['FractionOnPromotion'] = promotionsPerStoreAndItem['onpromotion']/promotionsPerStoreAndItem['item_nbr']\n",
    "#promotionsPerStoreAndItem.head()\n",
    "promotionsPerStoreAndItem = pd.DataFrame(promotionsPerStoreAndItem.to_records())\n",
    "promotionsPerStoreAndItem.head()\n",
    "promotionsPerStoreAndItem.plot.bar('store_nbr','FractionOnPromotion',title=\"Fraction of items on promotion\")"
   ]
  },
  {
   "cell_type": "markdown",
   "metadata": {},
   "source": [
    "It is interesting to note that certain stores have more than 1.5 times the items on promotion compared to the median promotion fraction. It would be interesting to look at the city cluster, total sales and other metrics for these stores at a later point. Median FractionOnPromotion is"
   ]
  },
  {
   "cell_type": "code",
   "execution_count": 86,
   "metadata": {},
   "outputs": [
    {
     "data": {
      "text/plain": [
       "0.060467983579177237"
      ]
     },
     "execution_count": 86,
     "metadata": {},
     "output_type": "execute_result"
    }
   ],
   "source": [
    "np.median(promotionsPerStoreAndItem['FractionOnPromotion'])"
   ]
  },
  {
   "cell_type": "code",
   "execution_count": 87,
   "metadata": {},
   "outputs": [
    {
     "data": {
      "text/html": [
       "<div>\n",
       "<style>\n",
       "    .dataframe thead tr:only-child th {\n",
       "        text-align: right;\n",
       "    }\n",
       "\n",
       "    .dataframe thead th {\n",
       "        text-align: left;\n",
       "    }\n",
       "\n",
       "    .dataframe tbody tr th {\n",
       "        vertical-align: top;\n",
       "    }\n",
       "</style>\n",
       "<table border=\"1\" class=\"dataframe\">\n",
       "  <thead>\n",
       "    <tr style=\"text-align: right;\">\n",
       "      <th></th>\n",
       "      <th>store_nbr</th>\n",
       "      <th>onpromotion</th>\n",
       "      <th>item_nbr</th>\n",
       "      <th>FractionOnPromotion</th>\n",
       "    </tr>\n",
       "  </thead>\n",
       "  <tbody>\n",
       "    <tr>\n",
       "      <th>19</th>\n",
       "      <td>20</td>\n",
       "      <td>767</td>\n",
       "      <td>8348</td>\n",
       "      <td>0.091878</td>\n",
       "    </tr>\n",
       "    <tr>\n",
       "      <th>20</th>\n",
       "      <td>21</td>\n",
       "      <td>713</td>\n",
       "      <td>6928</td>\n",
       "      <td>0.102916</td>\n",
       "    </tr>\n",
       "    <tr>\n",
       "      <th>21</th>\n",
       "      <td>22</td>\n",
       "      <td>494</td>\n",
       "      <td>4759</td>\n",
       "      <td>0.103803</td>\n",
       "    </tr>\n",
       "    <tr>\n",
       "      <th>28</th>\n",
       "      <td>29</td>\n",
       "      <td>762</td>\n",
       "      <td>7594</td>\n",
       "      <td>0.100342</td>\n",
       "    </tr>\n",
       "    <tr>\n",
       "      <th>51</th>\n",
       "      <td>52</td>\n",
       "      <td>159</td>\n",
       "      <td>1416</td>\n",
       "      <td>0.112288</td>\n",
       "    </tr>\n",
       "    <tr>\n",
       "      <th>52</th>\n",
       "      <td>53</td>\n",
       "      <td>1031</td>\n",
       "      <td>9715</td>\n",
       "      <td>0.106125</td>\n",
       "    </tr>\n",
       "  </tbody>\n",
       "</table>\n",
       "</div>"
      ],
      "text/plain": [
       "    store_nbr  onpromotion  item_nbr  FractionOnPromotion\n",
       "19         20          767      8348             0.091878\n",
       "20         21          713      6928             0.102916\n",
       "21         22          494      4759             0.103803\n",
       "28         29          762      7594             0.100342\n",
       "51         52          159      1416             0.112288\n",
       "52         53         1031      9715             0.106125"
      ]
     },
     "execution_count": 87,
     "metadata": {},
     "output_type": "execute_result"
    }
   ],
   "source": [
    "promotionsPerStoreAndItem.loc[promotionsPerStoreAndItem['FractionOnPromotion'] > 1.5*np.median(promotionsPerStoreAndItem['FractionOnPromotion'])]"
   ]
  },
  {
   "cell_type": "markdown",
   "metadata": {},
   "source": [
    "## To Do\n",
    "Engineer the following features\n",
    "1) Per Store - Item  Features with / without promotions and combined:\n",
    "    Mean/Quartiles over last week, month, quarter, half, year\n",
    "2) Per State/City/Type/Cluster-Item/Item Class/Item Family Features:\n",
    "    Mean/Quartiles over last week, month, quarter, half, year\n",
    "3) Per Item Features:\n",
    "    Time since last promotion, in class, in family, in city, in cluster\n",
    "4) Oil Prices Features:\n",
    "    Mean/Quartiles over different periods and their first and second derivatives\n",
    "5) Holiday features:\n",
    "    Time since last holiday. Per Item / Family/ Class stats for previous occurrence of this holiday and across holidays\n",
    "6) Transaction Features:\n",
    "    Think about how to combine transaction data / item class and family statistics\n",
    "7) Combine Transactions, Stores, oil, holidays  for feature engineering\n",
    " \n",
    "    \n",
    "## Completed\n",
    "1) Transaction sumary features\n",
    "\n",
    "Consider stacking models one after another\n",
    "Consider ensembling per item class/ family/ store family / city / cluster models"
   ]
  },
  {
   "cell_type": "markdown",
   "metadata": {},
   "source": [
    "## Feature Engineering\n",
    "Before we go ahead, here are the columns of each of the data frames:\n"
   ]
  },
  {
   "cell_type": "code",
   "execution_count": 88,
   "metadata": {},
   "outputs": [
    {
     "name": "stdout",
     "output_type": "stream",
     "text": [
      "Index(['id', 'date', 'store_nbr', 'item_nbr', 'unit_sales', 'onpromotion'], dtype='object')\n",
      "Index(['date', 'store_nbr', 'transactions'], dtype='object')\n",
      "Index(['store_nbr', 'city', 'state', 'type', 'cluster'], dtype='object')\n",
      "Index(['date', 'dcoilwtico'], dtype='object')\n",
      "Index(['item_nbr', 'family', 'class', 'perishable'], dtype='object')\n",
      "Index(['date', 'type', 'locale', 'locale_name', 'description', 'transferred'], dtype='object')\n"
     ]
    }
   ],
   "source": [
    "print(train.columns)\n",
    "print(transactions.columns)\n",
    "print(stores.columns)\n",
    "print(oil.columns)\n",
    "print(items.columns)\n",
    "print(holidays_events.columns)"
   ]
  },
  {
   "cell_type": "markdown",
   "metadata": {},
   "source": [
    "Let us condense any data frame with summary statistics to merge with the train data frame. First, let us start with transactions data frame. We can calculate short term and long term moving averages and mean /median/mode over past week, month, quarter, half and year. The default for the periods with no previous records, we will use the corresponding metric over the entire dataset. We need to convert the date column to datetime type for calculating averages over periods. Much of what follows for time period stats draws from examples here http://nbviewer.jupyter.org/github/koldunovn/earthpy.org/blob/master/content/earthpy_pandas_basics.ipynb . For pandas resample rules, here is the link describing them: https://stackoverflow.com/questions/17001389/pandas-resample-documentation . In case the link goes missing, these are the rules:\n",
    "1. B       business day frequency\n",
    "2. C       custom business day frequency (experimental)\n",
    "3. D       calendar day frequency\n",
    "4. W       weekly frequency\n",
    "5. M       month end frequency\n",
    "6. SM      semi-month end frequency (15th and end of month)\n",
    "8. BM      business month end frequency\n",
    "9. CBM     custom business month end frequency\n",
    "10. MS      month start frequency\n",
    "11. SMS     semi-month start frequency (1st and 15th)\n",
    "12. BMS     business month start frequency\n",
    "13. CBMS    custom business month start frequency\n",
    "14. Q       quarter end frequency\n",
    "15. BQ      business quarter endfrequency\n",
    "16. QS      quarter start frequency\n",
    "17. BQS     business quarter start frequency\n",
    "18. A       year end frequency\n",
    "19. BA      business year end frequency\n",
    "20. AS      year start frequency\n",
    "21. BAS     business year start frequency\n",
    "22. BH      business hour frequency\n",
    "23. H       hourly frequency\n",
    "24. T       minutely frequency\n",
    "25. S       secondly frequency\n",
    "26. L       milliseonds\n",
    "27. U       microseconds\n",
    "28. N       nanoseconds\n",
    "\n",
    "We will use W, M, SM, MS, Q, QS, A, AS rules for aggregation.\n",
    "### Transaction only features"
   ]
  },
  {
   "cell_type": "code",
   "execution_count": 199,
   "metadata": {},
   "outputs": [],
   "source": [
    "\n",
    "transactions['date'] = pd.to_datetime(transactions['date']) # convert date to datetime for analysis\n",
    "transactions_store_grp = transactions.groupby('store_nbr',as_index=False)\n",
    "def getStats(df,onCol=\"date\",period=\"W\",func=\"mean\",srcColumnName=\"transactions\"):\n",
    "    df_res = df.resample(period,on=onCol)\n",
    "    df_summ = df_res.apply(func)\n",
    "    df_summ = pd.DataFrame(df_summ.to_records())\n",
    "    df_summ = df_summ[~pd.isnull(df_summ).any(axis=1)] #remove Nans produced during resampling\n",
    "    #df_summ = df_summ.rename(columns={srcColumnName:str(srcColumnName+\"_\"+period+\"_\"+func)})\n",
    "    return df_summ\n",
    "def selectColumns(df,columnNames):\n",
    "    return df[columnNames]\n",
    "######Weekly stats\n",
    "#transactions_weekly_resampler = transactions_store_grp.resample(\"W\",on=\"date\")#produces Nans, revisit later\n",
    "#transactions_weekly_mean = (transactions.groupby(['store_nbr',pd.Grouper(freq=\"W\",key='date')])['transactions'].mean())\n",
    "transaction_summary_column_names = ['date','store_nbr','transactions']\n",
    "tran_week_means = selectColumns(getStats(transactions_store_grp,period=\"W\",func=\"mean\"),transaction_summary_column_names)\n",
    "tran_week_means = tran_week_means.rename(columns={'transactions':'transactions_mean_W'})\n",
    "#print(tran_week_means.head())\n",
    "tran_week_medians = selectColumns(getStats(transactions_store_grp,period=\"W\",func=\"median\"),transaction_summary_column_names)\n",
    "tran_week_medians = tran_week_medians.rename(columns={'transactions':'transactions_median_W'})\n",
    "#print(tran_week_medians.head())\n",
    "######Monthly stats\n",
    "tran_month_means = selectColumns(getStats(transactions_store_grp,period=\"M\",func=\"mean\"),transaction_summary_column_names)\n",
    "tran_month_means = tran_month_means.rename(columns={'transactions':'transactions_mean_M'})\n",
    "#print(tran_month_means.head())\n",
    "tran_month_medians = selectColumns(getStats(transactions_store_grp,period=\"M\",func=\"median\"),transaction_summary_column_names)\n",
    "tran_month_medians = tran_month_medians.rename(columns={'transactions':'transactions_median_M'})\n",
    "#print(tran_month_medians.head())\n",
    "######Semi monthly stats\n",
    "tran_semimonth_means = selectColumns(getStats(transactions_store_grp,period=\"SM\",func=\"mean\"),transaction_summary_column_names)\n",
    "tran_semimonth_means = tran_semimonth_means.rename(columns={'transactions':'transactions_mean_SM'})\n",
    "#print(tran_semimonth_means.head())\n",
    "tran_semimonth_medians = selectColumns(getStats(transactions_store_grp,period=\"SM\",func=\"median\"),transaction_summary_column_names)\n",
    "tran_semimonth_medians = tran_semimonth_medians.rename(columns={'transactions':'transactions_median_SM'})\n",
    "#print(tran_semimonth_medians.head())\n",
    "###### Start of Month stats\n",
    "tran_startmonth_means = selectColumns(getStats(transactions_store_grp,period=\"MS\",func=\"mean\"),transaction_summary_column_names)\n",
    "tran_startmonth_means = tran_startmonth_means.rename(columns={'transactions':'transactions_mean_MS'})\n",
    "#print(tran_startmonth_means.head())\n",
    "tran_startmonth_medians = selectColumns(getStats(transactions_store_grp,period=\"MS\",func=\"median\"),transaction_summary_column_names)\n",
    "tran_startmonth_medians = tran_startmonth_medians.rename(columns={'transactions':'transactions_median_MS'})\n",
    "#print(tran_startmonth_medians.head())\n",
    "###### Qauarter End stats\n",
    "tran_quarterend_means = selectColumns(getStats(transactions_store_grp,period=\"Q\",func=\"mean\"),transaction_summary_column_names)\n",
    "tran_quarterend_means = tran_quarterend_means.rename(columns={'transactions':'transactions_mean_Q'})\n",
    "#print(tran_quarterend_means.head())\n",
    "tran_quarterend_medians = selectColumns(getStats(transactions_store_grp,period=\"Q\",func=\"median\"),transaction_summary_column_names)\n",
    "tran_quarterend_medians = tran_quarterend_medians.rename(columns={'transactions':'transactions_median_Q'})\n",
    "#print(tran_quarterend_medians.head())\n",
    "###### Quarter Start stats\n",
    "tran_quarterstart_means = selectColumns(getStats(transactions_store_grp,period=\"QS\",func=\"mean\"),transaction_summary_column_names)\n",
    "tran_quarterstart_means = tran_quarterstart_means.rename(columns={'transactions':'transactions_mean_QS'})\n",
    "#print(tran_quarterstart_means.head())\n",
    "tran_quarterstart_medians = selectColumns(getStats(transactions_store_grp,period=\"QS\",func=\"median\"),transaction_summary_column_names)\n",
    "tran_quarterstart_medians = tran_quarterstart_medians.rename(columns={'transactions':'transactions_median_QS'})\n",
    "#print(tran_quarterstart_medians.head())\n",
    "###### Year End\n",
    "tran_yearend_means = selectColumns(getStats(transactions_store_grp,period=\"A\",func=\"mean\"),transaction_summary_column_names)\n",
    "tran_yearend_means = tran_yearend_means.rename(columns={'transactions':'transactions_mean_A'})\n",
    "#print(tran_yearend_means.head())\n",
    "tran_yearend_medians = selectColumns(getStats(transactions_store_grp,period=\"A\",func=\"median\"),transaction_summary_column_names)\n",
    "tran_yearend_medians = tran_yearend_medians.rename(columns={'transactions':'transactions_median_A'})\n",
    "#print(tran_yearend_medians.head())\n",
    "###### Year Start\n",
    "tran_yearstart_means = selectColumns(getStats(transactions_store_grp,period=\"AS\",func=\"mean\"),transaction_summary_column_names)\n",
    "tran_yearstart_means = tran_yearstart_means.rename(columns={'transactions':'transactions_mean_AS'})\n",
    "#print(tran_yearstart_means.head())\n",
    "tran_yearstart_medians = selectColumns(getStats(transactions_store_grp,period=\"AS\",func=\"median\"),transaction_summary_column_names)\n",
    "tran_yearstart_medians = tran_yearstart_medians.rename(columns={'transactions':'transactions_median_AS'})\n",
    "#print(tran_yearstart_medians.head())\n"
   ]
  },
  {
   "cell_type": "code",
   "execution_count": 203,
   "metadata": {},
   "outputs": [],
   "source": [
    "#stats_list =[tran_week_means,tran_week_medians,tran_month_means,tran_month_medians,\n",
    "#            tran_semimonth_means,tran_semimonth_medians,tran_startmonth_means,tran_startmonth_medians,\n",
    "#            tran_quarterend_means,tran_quarterend_medians,tran_quarterstart_means,tran_quarterstart_medians,\n",
    "#            tran_yearend_means,tran_yearend_medians,tran_yearstart_means,tran_yearstart_medians]\n",
    "\n",
    "#tran_summary_combined=reduce(lambda x, y: pd.merge(x, y, on = ['date','store_nbr']), stats_list)\n",
    "#tran_summary_combined.head()\n"
   ]
  },
  {
   "cell_type": "markdown",
   "metadata": {},
   "source": [
    "### Transaction+Store Features\n",
    "Next, we combine transaction and store data frames and calculate the above features on the combined data frame by store features (city,state,type,cluster). Example from StackOverflow :https://stackoverflow.com/questions/28642511/how-to-apply-rolling-functions-in-a-group-by-object-in-pandas/44929876#44929876"
   ]
  }
 ],
 "metadata": {
  "kernelspec": {
   "display_name": "Python 3",
   "language": "python",
   "name": "python3"
  },
  "language_info": {
   "codemirror_mode": {
    "name": "ipython",
    "version": 3
   },
   "file_extension": ".py",
   "mimetype": "text/x-python",
   "name": "python",
   "nbconvert_exporter": "python",
   "pygments_lexer": "ipython3",
   "version": "3.6.2"
  }
 },
 "nbformat": 4,
 "nbformat_minor": 2
}
